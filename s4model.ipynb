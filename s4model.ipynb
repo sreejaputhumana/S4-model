{
 "cells": [
  {
   "cell_type": "code",
   "execution_count": null,
   "id": "f056a820-73e7-4100-9b3c-4327ba297eb9",
   "metadata": {},
   "outputs": [],
   "source": [
    "\n",
    "\n",
    "class StateSpaceLayer(nn.Module):\n",
    "    def __init__(self, input_features, hidden_features):\n",
    "        super(StateSpaceLayer, self).__init__()\n",
    "        self.A = nn.Parameter(torch.randn(hidden_features, hidden_features))\n",
    "        self.B = nn.Parameter(torch.randn(hidden_features, input_features))\n",
    "        self.C = nn.Parameter(torch.randn(hidden_features, hidden_features))\n",
    "        self.D = nn.Parameter(torch.randn(hidden_features, input_features))\n",
    "\n",
    "    def forward(self, x):\n",
    "        pass\n",
    "\n",
    "    def __repr__(self):\n",
    "        return f\"{self.__class__.__name__}(A={self.A.shape}, B={self.B.shape}, C={self.C.shape}, D={self.D.shape})\"\n",
    "\n",
    "class ExtendedS4Model(nn.Module):\n",
    "    def __init__(self, input_features, hidden_features, output_features, num_layers=4):\n",
    "        super(ExtendedS4Model, self).__init__()\n",
    "        self.state_space_layers = nn.ModuleList(\n",
    "            [StateSpaceLayer(input_features if i == 0 else hidden_features, hidden_features) for i in range(num_layers)]\n",
    "        )\n",
    "        self.output_linear = nn.Linear(hidden_features, output_features)\n",
    "\n",
    "    def forward(self, x):\n",
    "        for layer in self.state_space_layers:\n",
    "            x = layer(x)\n",
    "        x = self.output_linear(x)\n",
    "        return x\n",
    "\n",
    "\n",
    "    \n",
    "input_features = 128  \n",
    "hidden_features = 256\n",
    "output_features = 128  \n",
    "num_layers = 4 \n",
    "S4model = ExtendedS4Model(input_features=128, hidden_features=256, output_features=128)\n",
    "print(S4model)\n"
   ]
  }
 ],
 "metadata": {
  "kernelspec": {
   "display_name": "Python 3 (ipykernel)",
   "language": "python",
   "name": "python3"
  },
  "language_info": {
   "codemirror_mode": {
    "name": "ipython",
    "version": 3
   },
   "file_extension": ".py",
   "mimetype": "text/x-python",
   "name": "python",
   "nbconvert_exporter": "python",
   "pygments_lexer": "ipython3",
   "version": "3.10.9"
  }
 },
 "nbformat": 4,
 "nbformat_minor": 5
}
